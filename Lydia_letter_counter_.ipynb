{
  "nbformat": 4,
  "nbformat_minor": 0,
  "metadata": {
    "colab": {
      "name": "Lydia letter counter .ipynb",
      "provenance": [],
      "authorship_tag": "ABX9TyMvOPIh/Tq0q73plrm3UVRP",
      "include_colab_link": true
    },
    "kernelspec": {
      "name": "python3",
      "display_name": "Python 3"
    },
    "language_info": {
      "name": "python"
    }
  },
  "cells": [
    {
      "cell_type": "markdown",
      "metadata": {
        "id": "view-in-github",
        "colab_type": "text"
      },
      "source": [
        "<a href=\"https://colab.research.google.com/github/lydiaberta/letter_sort/blob/main/Lydia_letter_counter_.ipynb\" target=\"_parent\"><img src=\"https://colab.research.google.com/assets/colab-badge.svg\" alt=\"Open In Colab\"/></a>"
      ]
    },
    {
      "cell_type": "code",
      "metadata": {
        "colab": {
          "base_uri": "https://localhost:8080/"
        },
        "id": "Sdfh4bWddEhv",
        "outputId": "16fb0d33-907b-4ef4-b34a-82cd6c0ec390"
      },
      "source": [
        "word = input(\"type in any word and I will count the letters\")\n",
        "print(f\"the word you gave me has {len(word)} letters\")\n"
      ],
      "execution_count": null,
      "outputs": [
        {
          "output_type": "stream",
          "text": [
            "type in any word and I will count the lettersEueal\n",
            "the word you gave me has 5 letters\n"
          ],
          "name": "stdout"
        }
      ]
    }
  ]
}